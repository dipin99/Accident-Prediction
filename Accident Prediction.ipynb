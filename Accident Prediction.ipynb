{
  "nbformat": 4,
  "nbformat_minor": 0,
  "metadata": {
    "colab": {
      "name": "Untitled2.ipynb",
      "provenance": []
    },
    "kernelspec": {
      "name": "python3",
      "display_name": "Python 3"
    }
  },
  "cells": [
    {
      "cell_type": "code",
      "metadata": {
        "id": "zxAorqBWRGks"
      },
      "source": [
        "import pandas as pd\r\n",
        "import numpy as np\r\n",
        "import tensorflow as tf"
      ],
      "execution_count": 1,
      "outputs": []
    },
    {
      "cell_type": "markdown",
      "metadata": {
        "id": "BRvF7vHBTV0i"
      },
      "source": [
        "Importing The Data set\r\n"
      ]
    },
    {
      "cell_type": "code",
      "metadata": {
        "id": "4QRFhxhSTc5q"
      },
      "source": [
        "\r\n",
        "dataset = pd.read_csv('/content/Train_data (2).csv')\r\n",
        "X = dataset.iloc[:, 1:-1].values\r\n",
        "y = dataset.iloc[:, -1].values"
      ],
      "execution_count": 3,
      "outputs": []
    },
    {
      "cell_type": "code",
      "metadata": {
        "colab": {
          "base_uri": "https://localhost:8080/"
        },
        "id": "SgpI_r7ZT_YZ",
        "outputId": "05ba7bfd-083b-44fc-d46b-934757abad98"
      },
      "source": [
        "print(X)"
      ],
      "execution_count": 4,
      "outputs": [
        {
          "output_type": "stream",
          "text": [
            "[['Basic' 'Offline' 186 -29.0 9.57 81]\n",
            " ['Basic' 'Offline' 186 -29.0 9.57 71]\n",
            " ['Basic' 'Online' 65 -49.5 29.7 32]\n",
            " ...\n",
            " ['Premium' 'Online' 2 18.0 6.3 57]\n",
            " ['Premium' 'Online' 3 18.0 6.3 63]\n",
            " ['Premium' 'Online' 22 26.0 9.1 35]]\n"
          ],
          "name": "stdout"
        }
      ]
    },
    {
      "cell_type": "code",
      "metadata": {
        "colab": {
          "base_uri": "https://localhost:8080/"
        },
        "id": "J8ZkHTvAUDWJ",
        "outputId": "8514605e-55b7-4166-c0fc-f701e0e759b6"
      },
      "source": [
        "print(y)"
      ],
      "execution_count": 5,
      "outputs": [
        {
          "output_type": "stream",
          "text": [
            "[0 0 0 ... 0 0 0]\n"
          ],
          "name": "stdout"
        }
      ]
    },
    {
      "cell_type": "markdown",
      "metadata": {
        "id": "pJ90-a0bUOcu"
      },
      "source": [
        "Encoding the data\r\n",
        "\"Client Type\"\r\n"
      ]
    },
    {
      "cell_type": "code",
      "metadata": {
        "id": "L7_bEbIDUHMS"
      },
      "source": [
        "from sklearn.preprocessing import LabelEncoder\r\n",
        "le = LabelEncoder()\r\n",
        "X[:, 0] = le.fit_transform(X[:, 0])"
      ],
      "execution_count": 6,
      "outputs": []
    },
    {
      "cell_type": "code",
      "metadata": {
        "colab": {
          "base_uri": "https://localhost:8080/"
        },
        "id": "HKuJG69WUpux",
        "outputId": "fe4d001b-fcba-4f8a-84b1-71a125ae5760"
      },
      "source": [
        "print(X)"
      ],
      "execution_count": 7,
      "outputs": [
        {
          "output_type": "stream",
          "text": [
            "[[0 'Offline' 186 -29.0 9.57 81]\n",
            " [0 'Offline' 186 -29.0 9.57 71]\n",
            " [0 'Online' 65 -49.5 29.7 32]\n",
            " ...\n",
            " [1 'Online' 2 18.0 6.3 57]\n",
            " [1 'Online' 3 18.0 6.3 63]\n",
            " [1 'Online' 22 26.0 9.1 35]]\n"
          ],
          "name": "stdout"
        }
      ]
    },
    {
      "cell_type": "code",
      "metadata": {
        "id": "at5TNLhCUuLZ"
      },
      "source": [
        "from sklearn.preprocessing import LabelEncoder\r\n",
        "le = LabelEncoder()\r\n",
        "X[:, 1] = le.fit_transform(X[:, 1])"
      ],
      "execution_count": 8,
      "outputs": []
    },
    {
      "cell_type": "code",
      "metadata": {
        "colab": {
          "base_uri": "https://localhost:8080/"
        },
        "id": "F7yj4w1NUz8a",
        "outputId": "9132db8b-57c0-4510-b534-a972d3ee5150"
      },
      "source": [
        "print(X)"
      ],
      "execution_count": 9,
      "outputs": [
        {
          "output_type": "stream",
          "text": [
            "[[0 0 186 -29.0 9.57 81]\n",
            " [0 0 186 -29.0 9.57 71]\n",
            " [0 1 65 -49.5 29.7 32]\n",
            " ...\n",
            " [1 1 2 18.0 6.3 57]\n",
            " [1 1 3 18.0 6.3 63]\n",
            " [1 1 22 26.0 9.1 35]]\n"
          ],
          "name": "stdout"
        }
      ]
    },
    {
      "cell_type": "markdown",
      "metadata": {
        "id": "sAFcML7rVLzx"
      },
      "source": [
        "Splitting the Dataset"
      ]
    },
    {
      "cell_type": "code",
      "metadata": {
        "id": "sVSKRAqCVQL6"
      },
      "source": [
        "from sklearn.model_selection import train_test_split\r\n",
        "X_train, X_test, y_train, y_test = train_test_split(X, y, test_size = 0.2, random_state = 0)"
      ],
      "execution_count": 10,
      "outputs": []
    },
    {
      "cell_type": "markdown",
      "metadata": {
        "id": "fV9iDnofVZZC"
      },
      "source": [
        "Feauture Scaling"
      ]
    },
    {
      "cell_type": "code",
      "metadata": {
        "id": "GfGFKmMqVVQS"
      },
      "source": [
        "\r\n",
        "from sklearn.preprocessing import StandardScaler\r\n",
        "sc = StandardScaler()\r\n",
        "X_train = sc.fit_transform(X_train)\r\n",
        "X_test = sc.transform(X_test)"
      ],
      "execution_count": 13,
      "outputs": []
    },
    {
      "cell_type": "code",
      "metadata": {
        "colab": {
          "base_uri": "https://localhost:8080/"
        },
        "id": "z_Leba6VVfFB",
        "outputId": "3ceb29df-7cda-4e8a-c019-dc6098206542"
      },
      "source": [
        "print(X)"
      ],
      "execution_count": 14,
      "outputs": [
        {
          "output_type": "stream",
          "text": [
            "[[0 0 186 -29.0 9.57 81]\n",
            " [0 0 186 -29.0 9.57 71]\n",
            " [0 1 65 -49.5 29.7 32]\n",
            " ...\n",
            " [1 1 2 18.0 6.3 57]\n",
            " [1 1 3 18.0 6.3 63]\n",
            " [1 1 22 26.0 9.1 35]]\n"
          ],
          "name": "stdout"
        }
      ]
    },
    {
      "cell_type": "markdown",
      "metadata": {
        "id": "j00maifaVu6R"
      },
      "source": [
        "Buliding the ANN"
      ]
    },
    {
      "cell_type": "code",
      "metadata": {
        "id": "GXNaNsRUVp2J"
      },
      "source": [
        "ann = tf.keras.models.Sequential()\r\n",
        "\r\n",
        "ann.add(tf.keras.layers.Dense(units=6,activation='relu'))\r\n",
        "\r\n",
        "ann.add(tf.keras.layers.Dense(units=6,activation='relu'))\r\n",
        "ann.add(tf.keras.layers.Dense(units=1,activation='sigmoid'))\r\n"
      ],
      "execution_count": 15,
      "outputs": []
    },
    {
      "cell_type": "markdown",
      "metadata": {
        "id": "Z82haGzHV-EB"
      },
      "source": [
        "Traing the ann"
      ]
    },
    {
      "cell_type": "code",
      "metadata": {
        "id": "CuCzeQP4WCi5"
      },
      "source": [
        "ann.compile(optimizer='adam',loss='binary_crossentropy',metrics=['accuracy'])"
      ],
      "execution_count": 16,
      "outputs": []
    },
    {
      "cell_type": "code",
      "metadata": {
        "id": "eh3gqHWaWHbO",
        "outputId": "4bbdf256-3153-4a70-a636-27adbee4a792",
        "colab": {
          "base_uri": "https://localhost:8080/"
        }
      },
      "source": [
        "ann.fit(X_train,y_train,batch_size = 32, epochs = 100)"
      ],
      "execution_count": 17,
      "outputs": [
        {
          "output_type": "stream",
          "text": [
            "Epoch 1/100\n",
            "1509/1509 [==============================] - 2s 1ms/step - loss: 0.2134 - accuracy: 0.9696\n",
            "Epoch 2/100\n",
            "1509/1509 [==============================] - 2s 1ms/step - loss: 0.0688 - accuracy: 0.9854\n",
            "Epoch 3/100\n",
            "1509/1509 [==============================] - 2s 1ms/step - loss: 0.0711 - accuracy: 0.9846\n",
            "Epoch 4/100\n",
            "1509/1509 [==============================] - 2s 1ms/step - loss: 0.0647 - accuracy: 0.9860\n",
            "Epoch 5/100\n",
            "1509/1509 [==============================] - 2s 1ms/step - loss: 0.0661 - accuracy: 0.9856\n",
            "Epoch 6/100\n",
            "1509/1509 [==============================] - 2s 1ms/step - loss: 0.0668 - accuracy: 0.9855\n",
            "Epoch 7/100\n",
            "1509/1509 [==============================] - 2s 1ms/step - loss: 0.0688 - accuracy: 0.9852\n",
            "Epoch 8/100\n",
            "1509/1509 [==============================] - 2s 1ms/step - loss: 0.0675 - accuracy: 0.9851\n",
            "Epoch 9/100\n",
            "1509/1509 [==============================] - 2s 1ms/step - loss: 0.0660 - accuracy: 0.9852\n",
            "Epoch 10/100\n",
            "1509/1509 [==============================] - 2s 1ms/step - loss: 0.0714 - accuracy: 0.9842\n",
            "Epoch 11/100\n",
            "1509/1509 [==============================] - 2s 1ms/step - loss: 0.0652 - accuracy: 0.9856\n",
            "Epoch 12/100\n",
            "1509/1509 [==============================] - 2s 1ms/step - loss: 0.0664 - accuracy: 0.9856\n",
            "Epoch 13/100\n",
            "1509/1509 [==============================] - 2s 1ms/step - loss: 0.0641 - accuracy: 0.9861\n",
            "Epoch 14/100\n",
            "1509/1509 [==============================] - 2s 1ms/step - loss: 0.0684 - accuracy: 0.9848\n",
            "Epoch 15/100\n",
            "1509/1509 [==============================] - 2s 1ms/step - loss: 0.0666 - accuracy: 0.9854\n",
            "Epoch 16/100\n",
            "1509/1509 [==============================] - 2s 1ms/step - loss: 0.0666 - accuracy: 0.9851\n",
            "Epoch 17/100\n",
            "1509/1509 [==============================] - 2s 1ms/step - loss: 0.0637 - accuracy: 0.9857\n",
            "Epoch 18/100\n",
            "1509/1509 [==============================] - 2s 1ms/step - loss: 0.0665 - accuracy: 0.9850\n",
            "Epoch 19/100\n",
            "1509/1509 [==============================] - 2s 1ms/step - loss: 0.0683 - accuracy: 0.9848\n",
            "Epoch 20/100\n",
            "1509/1509 [==============================] - 2s 1ms/step - loss: 0.0681 - accuracy: 0.9847\n",
            "Epoch 21/100\n",
            "1509/1509 [==============================] - 2s 1ms/step - loss: 0.0690 - accuracy: 0.9847\n",
            "Epoch 22/100\n",
            "1509/1509 [==============================] - 2s 1ms/step - loss: 0.0639 - accuracy: 0.9858\n",
            "Epoch 23/100\n",
            "1509/1509 [==============================] - 2s 1ms/step - loss: 0.0663 - accuracy: 0.9850\n",
            "Epoch 24/100\n",
            "1509/1509 [==============================] - 2s 1ms/step - loss: 0.0648 - accuracy: 0.9853\n",
            "Epoch 25/100\n",
            "1509/1509 [==============================] - 2s 1ms/step - loss: 0.0651 - accuracy: 0.9857\n",
            "Epoch 26/100\n",
            "1509/1509 [==============================] - 2s 1ms/step - loss: 0.0648 - accuracy: 0.9858\n",
            "Epoch 27/100\n",
            "1509/1509 [==============================] - 2s 1ms/step - loss: 0.0643 - accuracy: 0.9856\n",
            "Epoch 28/100\n",
            "1509/1509 [==============================] - 2s 1ms/step - loss: 0.0622 - accuracy: 0.9864\n",
            "Epoch 29/100\n",
            "1509/1509 [==============================] - 2s 1ms/step - loss: 0.0635 - accuracy: 0.9862\n",
            "Epoch 30/100\n",
            "1509/1509 [==============================] - 2s 1ms/step - loss: 0.0639 - accuracy: 0.9857\n",
            "Epoch 31/100\n",
            "1509/1509 [==============================] - 2s 1ms/step - loss: 0.0661 - accuracy: 0.9851\n",
            "Epoch 32/100\n",
            "1509/1509 [==============================] - 2s 1ms/step - loss: 0.0655 - accuracy: 0.9854\n",
            "Epoch 33/100\n",
            "1509/1509 [==============================] - 2s 1ms/step - loss: 0.0669 - accuracy: 0.9847\n",
            "Epoch 34/100\n",
            "1509/1509 [==============================] - 2s 1ms/step - loss: 0.0643 - accuracy: 0.9855\n",
            "Epoch 35/100\n",
            "1509/1509 [==============================] - 2s 1ms/step - loss: 0.0673 - accuracy: 0.9850\n",
            "Epoch 36/100\n",
            "1509/1509 [==============================] - 2s 1ms/step - loss: 0.0642 - accuracy: 0.9858\n",
            "Epoch 37/100\n",
            "1509/1509 [==============================] - 2s 1ms/step - loss: 0.0668 - accuracy: 0.9853\n",
            "Epoch 38/100\n",
            "1509/1509 [==============================] - 2s 1ms/step - loss: 0.0638 - accuracy: 0.9857\n",
            "Epoch 39/100\n",
            "1509/1509 [==============================] - 2s 1ms/step - loss: 0.0659 - accuracy: 0.9851\n",
            "Epoch 40/100\n",
            "1509/1509 [==============================] - 2s 1ms/step - loss: 0.0681 - accuracy: 0.9852\n",
            "Epoch 41/100\n",
            "1509/1509 [==============================] - 2s 1ms/step - loss: 0.0659 - accuracy: 0.9854\n",
            "Epoch 42/100\n",
            "1509/1509 [==============================] - 2s 1ms/step - loss: 0.0658 - accuracy: 0.9855\n",
            "Epoch 43/100\n",
            "1509/1509 [==============================] - 2s 1ms/step - loss: 0.0663 - accuracy: 0.9853\n",
            "Epoch 44/100\n",
            "1509/1509 [==============================] - 2s 1ms/step - loss: 0.0684 - accuracy: 0.9845\n",
            "Epoch 45/100\n",
            "1509/1509 [==============================] - 2s 1ms/step - loss: 0.0671 - accuracy: 0.9849\n",
            "Epoch 46/100\n",
            "1509/1509 [==============================] - 2s 1ms/step - loss: 0.0662 - accuracy: 0.9855\n",
            "Epoch 47/100\n",
            "1509/1509 [==============================] - 2s 1ms/step - loss: 0.0671 - accuracy: 0.9849\n",
            "Epoch 48/100\n",
            "1509/1509 [==============================] - 2s 1ms/step - loss: 0.0590 - accuracy: 0.9871\n",
            "Epoch 49/100\n",
            "1509/1509 [==============================] - 2s 1ms/step - loss: 0.0696 - accuracy: 0.9844\n",
            "Epoch 50/100\n",
            "1509/1509 [==============================] - 2s 1ms/step - loss: 0.0630 - accuracy: 0.9860\n",
            "Epoch 51/100\n",
            "1509/1509 [==============================] - 2s 1ms/step - loss: 0.0646 - accuracy: 0.9855\n",
            "Epoch 52/100\n",
            "1509/1509 [==============================] - 2s 1ms/step - loss: 0.0670 - accuracy: 0.9850\n",
            "Epoch 53/100\n",
            "1509/1509 [==============================] - 2s 1ms/step - loss: 0.0625 - accuracy: 0.9861\n",
            "Epoch 54/100\n",
            "1509/1509 [==============================] - 2s 1ms/step - loss: 0.0658 - accuracy: 0.9853\n",
            "Epoch 55/100\n",
            "1509/1509 [==============================] - 2s 1ms/step - loss: 0.0651 - accuracy: 0.9851\n",
            "Epoch 56/100\n",
            "1509/1509 [==============================] - 2s 1ms/step - loss: 0.0642 - accuracy: 0.9856\n",
            "Epoch 57/100\n",
            "1509/1509 [==============================] - 2s 1ms/step - loss: 0.0636 - accuracy: 0.9858\n",
            "Epoch 58/100\n",
            "1509/1509 [==============================] - 2s 1ms/step - loss: 0.0620 - accuracy: 0.9863\n",
            "Epoch 59/100\n",
            "1509/1509 [==============================] - 2s 1ms/step - loss: 0.0637 - accuracy: 0.9861\n",
            "Epoch 60/100\n",
            "1509/1509 [==============================] - 2s 1ms/step - loss: 0.0657 - accuracy: 0.9851\n",
            "Epoch 61/100\n",
            "1509/1509 [==============================] - 2s 1ms/step - loss: 0.0629 - accuracy: 0.9863\n",
            "Epoch 62/100\n",
            "1509/1509 [==============================] - 2s 1ms/step - loss: 0.0661 - accuracy: 0.9851\n",
            "Epoch 63/100\n",
            "1509/1509 [==============================] - 2s 1ms/step - loss: 0.0638 - accuracy: 0.9857\n",
            "Epoch 64/100\n",
            "1509/1509 [==============================] - 2s 1ms/step - loss: 0.0615 - accuracy: 0.9863\n",
            "Epoch 65/100\n",
            "1509/1509 [==============================] - 2s 1ms/step - loss: 0.0663 - accuracy: 0.9849\n",
            "Epoch 66/100\n",
            "1509/1509 [==============================] - 2s 1ms/step - loss: 0.0647 - accuracy: 0.9851\n",
            "Epoch 67/100\n",
            "1509/1509 [==============================] - 2s 1ms/step - loss: 0.0617 - accuracy: 0.9862\n",
            "Epoch 68/100\n",
            "1509/1509 [==============================] - 2s 1ms/step - loss: 0.0658 - accuracy: 0.9852\n",
            "Epoch 69/100\n",
            "1509/1509 [==============================] - 2s 1ms/step - loss: 0.0656 - accuracy: 0.9850\n",
            "Epoch 70/100\n",
            "1509/1509 [==============================] - 2s 1ms/step - loss: 0.0681 - accuracy: 0.9848\n",
            "Epoch 71/100\n",
            "1509/1509 [==============================] - 2s 1ms/step - loss: 0.0677 - accuracy: 0.9848\n",
            "Epoch 72/100\n",
            "1509/1509 [==============================] - 2s 1ms/step - loss: 0.0627 - accuracy: 0.9863\n",
            "Epoch 73/100\n",
            "1509/1509 [==============================] - 2s 1ms/step - loss: 0.0623 - accuracy: 0.9860\n",
            "Epoch 74/100\n",
            "1509/1509 [==============================] - 2s 1ms/step - loss: 0.0669 - accuracy: 0.9847\n",
            "Epoch 75/100\n",
            "1509/1509 [==============================] - 2s 1ms/step - loss: 0.0697 - accuracy: 0.9843\n",
            "Epoch 76/100\n",
            "1509/1509 [==============================] - 2s 1ms/step - loss: 0.0626 - accuracy: 0.9858\n",
            "Epoch 77/100\n",
            "1509/1509 [==============================] - 2s 1ms/step - loss: 0.0655 - accuracy: 0.9851\n",
            "Epoch 78/100\n",
            "1509/1509 [==============================] - 2s 1ms/step - loss: 0.0664 - accuracy: 0.9850\n",
            "Epoch 79/100\n",
            "1509/1509 [==============================] - 2s 1ms/step - loss: 0.0650 - accuracy: 0.9852\n",
            "Epoch 80/100\n",
            "1509/1509 [==============================] - 2s 1ms/step - loss: 0.0641 - accuracy: 0.9856\n",
            "Epoch 81/100\n",
            "1509/1509 [==============================] - 2s 1ms/step - loss: 0.0639 - accuracy: 0.9856\n",
            "Epoch 82/100\n",
            "1509/1509 [==============================] - 2s 1ms/step - loss: 0.0642 - accuracy: 0.9855\n",
            "Epoch 83/100\n",
            "1509/1509 [==============================] - 2s 1ms/step - loss: 0.0644 - accuracy: 0.9850\n",
            "Epoch 84/100\n",
            "1509/1509 [==============================] - 2s 1ms/step - loss: 0.0634 - accuracy: 0.9862\n",
            "Epoch 85/100\n",
            "1509/1509 [==============================] - 2s 1ms/step - loss: 0.0661 - accuracy: 0.9848\n",
            "Epoch 86/100\n",
            "1509/1509 [==============================] - 2s 1ms/step - loss: 0.0657 - accuracy: 0.9851\n",
            "Epoch 87/100\n",
            "1509/1509 [==============================] - 2s 1ms/step - loss: 0.0667 - accuracy: 0.9848\n",
            "Epoch 88/100\n",
            "1509/1509 [==============================] - 2s 1ms/step - loss: 0.0623 - accuracy: 0.9859\n",
            "Epoch 89/100\n",
            "1509/1509 [==============================] - 2s 1ms/step - loss: 0.0672 - accuracy: 0.9849\n",
            "Epoch 90/100\n",
            "1509/1509 [==============================] - 2s 1ms/step - loss: 0.0688 - accuracy: 0.9844\n",
            "Epoch 91/100\n",
            "1509/1509 [==============================] - 2s 1ms/step - loss: 0.0664 - accuracy: 0.9849\n",
            "Epoch 92/100\n",
            "1509/1509 [==============================] - 2s 1ms/step - loss: 0.0638 - accuracy: 0.9857\n",
            "Epoch 93/100\n",
            "1509/1509 [==============================] - 2s 1ms/step - loss: 0.0637 - accuracy: 0.9857\n",
            "Epoch 94/100\n",
            "1509/1509 [==============================] - 2s 1ms/step - loss: 0.0646 - accuracy: 0.9855\n",
            "Epoch 95/100\n",
            "1509/1509 [==============================] - 2s 1ms/step - loss: 0.0633 - accuracy: 0.9859\n",
            "Epoch 96/100\n",
            "1509/1509 [==============================] - 2s 1ms/step - loss: 0.0667 - accuracy: 0.9850\n",
            "Epoch 97/100\n",
            "1509/1509 [==============================] - 2s 1ms/step - loss: 0.0663 - accuracy: 0.9850\n",
            "Epoch 98/100\n",
            "1509/1509 [==============================] - 2s 1ms/step - loss: 0.0634 - accuracy: 0.9857\n",
            "Epoch 99/100\n",
            "1509/1509 [==============================] - 2s 1ms/step - loss: 0.0643 - accuracy: 0.9852\n",
            "Epoch 100/100\n",
            "1509/1509 [==============================] - 2s 1ms/step - loss: 0.0632 - accuracy: 0.9854\n"
          ],
          "name": "stdout"
        },
        {
          "output_type": "execute_result",
          "data": {
            "text/plain": [
              "<tensorflow.python.keras.callbacks.History at 0x7f70cbbfa860>"
            ]
          },
          "metadata": {
            "tags": []
          },
          "execution_count": 17
        }
      ]
    },
    {
      "cell_type": "code",
      "metadata": {
        "id": "JrGDLnlsW4g6",
        "outputId": "5566862a-47fa-4981-db22-161f9d33f19f",
        "colab": {
          "base_uri": "https://localhost:8080/"
        }
      },
      "source": [
        "\r\n",
        "y_pred = ann.predict(X_test)\r\n",
        "y_pred = (y_pred > 0.5)\r\n",
        "print(np.concatenate((y_pred.reshape(len(y_pred),1), y_test.reshape(len(y_test),1)),1))"
      ],
      "execution_count": 18,
      "outputs": [
        {
          "output_type": "stream",
          "text": [
            "[[0 0]\n",
            " [0 0]\n",
            " [0 0]\n",
            " ...\n",
            " [0 0]\n",
            " [0 0]\n",
            " [0 0]]\n"
          ],
          "name": "stdout"
        }
      ]
    },
    {
      "cell_type": "code",
      "metadata": {
        "id": "ES77nru6W6PL",
        "outputId": "cf3fcb55-acb2-4508-e57e-aa7ca8da0ceb",
        "colab": {
          "base_uri": "https://localhost:8080/"
        }
      },
      "source": [
        "from sklearn.metrics import confusion_matrix, accuracy_score\r\n",
        "cm = confusion_matrix(y_test, y_pred)\r\n",
        "print(cm)\r\n",
        "accuracy_score(y_test, y_pred)"
      ],
      "execution_count": 19,
      "outputs": [
        {
          "output_type": "stream",
          "text": [
            "[[11887     0]\n",
            " [  179     0]]\n"
          ],
          "name": "stdout"
        },
        {
          "output_type": "execute_result",
          "data": {
            "text/plain": [
              "0.9851649262390187"
            ]
          },
          "metadata": {
            "tags": []
          },
          "execution_count": 19
        }
      ]
    }
  ]
}